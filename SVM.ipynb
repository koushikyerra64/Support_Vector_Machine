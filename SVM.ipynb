{
 "cells": [
  {
   "cell_type": "code",
   "execution_count": 3,
   "id": "1b0a69bd-66db-4179-b904-95ff2ffbe785",
   "metadata": {},
   "outputs": [
    {
     "name": "stdout",
     "output_type": "stream",
     "text": [
      "Generating synthetic dataset...\n",
      "Synthetic dataset ready: 200 samples\n",
      "Training SVM...\n",
      "\n",
      "Accuracy: 0.5\n",
      "\n",
      "Classification Report:\n",
      "               precision    recall  f1-score   support\n",
      "\n",
      "        cats       0.60      0.50      0.55        24\n",
      "        dogs       0.40      0.50      0.44        16\n",
      "\n",
      "    accuracy                           0.50        40\n",
      "   macro avg       0.50      0.50      0.49        40\n",
      "weighted avg       0.52      0.50      0.51        40\n",
      "\n",
      "\n",
      "Prediction for a test synthetic image: dogs\n"
     ]
    }
   ],
   "source": [
    "import numpy as np\n",
    "from PIL import Image\n",
    "from skimage.feature import hog\n",
    "from sklearn.model_selection import train_test_split\n",
    "from sklearn.svm import SVC\n",
    "from sklearn.metrics import accuracy_score, classification_report\n",
    "from sklearn.preprocessing import StandardScaler\n",
    "img_size = 64  # smaller for synthetic\n",
    "categories = [\"cats\", \"dogs\"]\n",
    "data = []\n",
    "labels = []\n",
    "\n",
    "def make_stripes(size=64):\n",
    "    \"\"\"Synthetic 'cat' image = stripes\"\"\"\n",
    "    img = np.zeros((size, size))\n",
    "    img[::2, :] = 255\n",
    "    return img\n",
    "\n",
    "def make_checkerboard(size=64):\n",
    "    \"\"\"Synthetic 'dog' image = checkerboard\"\"\"\n",
    "    img = np.indices((size, size)).sum(axis=0) % 2 * 255\n",
    "    return img\n",
    "\n",
    "print(\"Generating synthetic dataset...\")\n",
    "for i in range(100):\n",
    "    cat_img = make_stripes(img_size)\n",
    "    dog_img = make_checkerboard(img_size)\n",
    "    cat_img = cat_img + np.random.randint(0, 50, cat_img.shape)\n",
    "    dog_img = dog_img + np.random.randint(0, 50, dog_img.shape)\n",
    "    for img, label in [(cat_img, 0), (dog_img, 1)]:\n",
    "        features = hog(img, orientations=9, pixels_per_cell=(8,8),\n",
    "                       cells_per_block=(2,2), block_norm='L2-Hys',\n",
    "                       visualize=False)\n",
    "        data.append(features)\n",
    "        labels.append(label)\n",
    "\n",
    "X = np.array(data)\n",
    "y = np.array(labels)\n",
    "\n",
    "print(f\"Synthetic dataset ready: {len(X)} samples\")\n",
    "X_train, X_test, y_train, y_test = train_test_split(X, y, test_size=0.2, random_state=42)\n",
    "\n",
    "scaler = StandardScaler()\n",
    "X_train = scaler.fit_transform(X_train)\n",
    "X_test = scaler.transform(X_test)\n",
    "print(\"Training SVM...\")\n",
    "model = SVC(kernel='linear')\n",
    "model.fit(X_train, y_train)\n",
    "y_pred = model.predict(X_test)\n",
    "print(\"\\nAccuracy:\", accuracy_score(y_test, y_pred))\n",
    "print(\"\\nClassification Report:\\n\", classification_report(y_test, y_pred, target_names=categories))\n",
    "def predict_image(img_array):\n",
    "    features = hog(img_array, orientations=9, pixels_per_cell=(8,8),\n",
    "                   cells_per_block=(2,2), block_norm='L2-Hys',\n",
    "                   visualize=False)\n",
    "    features = scaler.transform(features.reshape(1, -1))\n",
    "    prediction = model.predict(features)\n",
    "    return categories[prediction[0]]\n",
    "test_img = make_stripes(img_size)\n",
    "print(\"\\nPrediction for a test synthetic image:\", predict_image(test_img))\n"
   ]
  },
  {
   "cell_type": "code",
   "execution_count": null,
   "id": "07226f23-d404-499f-b674-9270bf80074f",
   "metadata": {},
   "outputs": [],
   "source": []
  }
 ],
 "metadata": {
  "kernelspec": {
   "display_name": "Python 3 (ipykernel)",
   "language": "python",
   "name": "python3"
  },
  "language_info": {
   "codemirror_mode": {
    "name": "ipython",
    "version": 3
   },
   "file_extension": ".py",
   "mimetype": "text/x-python",
   "name": "python",
   "nbconvert_exporter": "python",
   "pygments_lexer": "ipython3",
   "version": "3.13.5"
  }
 },
 "nbformat": 4,
 "nbformat_minor": 5
}
